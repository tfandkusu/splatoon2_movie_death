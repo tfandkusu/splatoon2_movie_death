{
 "cells": [
  {
   "cell_type": "code",
   "execution_count": null,
   "metadata": {},
   "outputs": [],
   "source": [
    "# 下記ライブラリがインストールされていなければインストールします。\n",
    "!pip install opencv-python\n",
    "!pip install tensorflow\n",
    "!pip install tqdm"
   ]
  },
  {
   "cell_type": "code",
   "execution_count": 1,
   "metadata": {},
   "outputs": [],
   "source": [
    "# ライブラリインポート\n",
    "import subprocess\n",
    "import csv\n",
    "import numpy as np\n",
    "import cv2\n",
    "import tensorflow as tf\n",
    "from tqdm import tqdm"
   ]
  },
  {
   "cell_type": "markdown",
   "metadata": {},
   "source": [
    "ffmpegコマンドも使用します。"
   ]
  },
  {
   "cell_type": "markdown",
   "metadata": {},
   "source": [
    "# 動画切り出し設定"
   ]
  },
  {
   "cell_type": "code",
   "execution_count": 27,
   "metadata": {},
   "outputs": [],
   "source": [
    "# 切り出し元動画パス\n",
    "src_movie = 'test.mp4'\n",
    "# 切り出し秒数\n",
    "cut_duration = 8\n",
    "# デバッグ出力フラグ\n",
    "debug = False"
   ]
  },
  {
   "cell_type": "code",
   "execution_count": 28,
   "metadata": {},
   "outputs": [],
   "source": [
    "# デバッグ出力するときは、0,1ディレクトリを作る\n",
    "!mkdir -p 0\n",
    "!mkdir -p 1"
   ]
  },
  {
   "cell_type": "markdown",
   "metadata": {},
   "source": [
    "# 動画切り出し処理"
   ]
  },
  {
   "cell_type": "code",
   "execution_count": 29,
   "metadata": {},
   "outputs": [],
   "source": [
    "# TensorFlow lite の初期化\n",
    "interpreter = tf.lite.Interpreter(model_path='model/model.tflite')\n",
    "interpreter.allocate_tensors()\n",
    "input_details = interpreter.get_input_details()\n",
    "output_details = interpreter.get_output_details()"
   ]
  },
  {
   "cell_type": "code",
   "execution_count": 30,
   "metadata": {},
   "outputs": [
    {
     "name": "stderr",
     "output_type": "stream",
     "text": [
      "100%|██████████| 431717/431717 [33:59<00:00, 211.66it/s]\n"
     ]
    }
   ],
   "source": [
    "# 切り出し終了時間からこの秒数は切り出し開始しない\n",
    "death_duration = 8\n",
    "# 書き出しCSVファイル\n",
    "with open('cut_time.csv', 'w') as f:\n",
    "    writer = csv.writer(f)\n",
    "    # 動画を読み込む\n",
    "    cap = cv2.VideoCapture(src_movie)\n",
    "    # フレーム数を取得\n",
    "    frame_count = int(cap.get(cv2.CAP_PROP_FRAME_COUNT))\n",
    "    # 1秒あたりフレーム数を取得\n",
    "    fps = cap.get(cv2.CAP_PROP_FPS)\n",
    "    # 0.5秒に1回予測する\n",
    "    skip = fps / 2\n",
    "    # フレーム\n",
    "    i = 0\n",
    "    # 切り出し開始しないカウントダウン\n",
    "    no_start = 0\n",
    "    # デバッグ出力画像ファイルインデックス\n",
    "    out_index = 0\n",
    "    for i in tqdm(range(frame_count)):\n",
    "        ret, img = cap.read()\n",
    "        if ret:\n",
    "            if i % skip == 0 and no_start == 0:\n",
    "                # フレームを予測する大きさに縮小\n",
    "                shrink = cv2.resize(\n",
    "                    img, (224, 224), interpolation=cv2.INTER_CUBIC)\n",
    "                # 4次元に変換する\n",
    "                input_tensor = shrink.reshape(1, 224, 224, 3)\n",
    "                # それをTensorFlow liteに指定する\n",
    "                interpreter.set_tensor(input_details[0]['index'], input_tensor)\n",
    "                # 推論実行\n",
    "                interpreter.invoke()\n",
    "                # 出力層を確認\n",
    "                output_tensor = interpreter.get_tensor(output_details[0]['index'])\n",
    "                # やられたシーン判定\n",
    "                scene = np.argmax(output_tensor)\n",
    "                if scene == 1:\n",
    "                    # やられたシーンの時は\n",
    "                    # 切り出し開始秒数を出力\n",
    "                    ss = i - cut_duration * fps\n",
    "                    if ss < 0:\n",
    "                        ss = 0\n",
    "                    writer.writerow([\"%d.%02d\" % (ss/fps, 100 * (ss % fps)/fps)])\n",
    "                    # シーン判定をしばらく止める\n",
    "                    no_start = fps * death_duration\n",
    "                # デバッグ出力\n",
    "                if debug:\n",
    "                    out_path = \"%d/frame%05d.jpg\" % (scene, out_index)\n",
    "                    cv2.imwrite(out_path, img)\n",
    "                    out_index += 1\n",
    "            if no_start >= 1:\n",
    "                no_start -= 1\n",
    "        else:\n",
    "            break"
   ]
  },
  {
   "cell_type": "code",
   "execution_count": 24,
   "metadata": {},
   "outputs": [],
   "source": [
    "# やられたシーン切り出し動画の出力ディレクトリ\n",
    "!mkdir -p extract"
   ]
  },
  {
   "cell_type": "code",
   "execution_count": 25,
   "metadata": {},
   "outputs": [],
   "source": [
    "# CSVファイルから切り出し開始時刻配列を作成する\n",
    "sss = []\n",
    "with open('cut_time.csv') as f:\n",
    "    reader = csv.reader(f)\n",
    "    for row in reader:\n",
    "        sss.append(row[0])"
   ]
  },
  {
   "cell_type": "code",
   "execution_count": 26,
   "metadata": {},
   "outputs": [
    {
     "name": "stderr",
     "output_type": "stream",
     "text": [
      "100%|██████████| 49/49 [00:03<00:00, 16.30it/s]\n"
     ]
    }
   ],
   "source": [
    "# ffmpegで切り出す\n",
    "for i in tqdm(range(len(sss))):\n",
    "    ss = sss[i]\n",
    "    command = \"ffmpeg -y -ss %s -i %s -t %d -c copy extract/scene%03d.mp4\" % (ss, src_movie, cut_duration, i)\n",
    "    subprocess.run(command, shell=True)"
   ]
  },
  {
   "cell_type": "code",
   "execution_count": null,
   "metadata": {},
   "outputs": [],
   "source": []
  }
 ],
 "metadata": {
  "kernelspec": {
   "display_name": "Python 3",
   "language": "python",
   "name": "python3"
  },
  "language_info": {
   "codemirror_mode": {
    "name": "ipython",
    "version": 3
   },
   "file_extension": ".py",
   "mimetype": "text/x-python",
   "name": "python",
   "nbconvert_exporter": "python",
   "pygments_lexer": "ipython3",
   "version": "3.8.2"
  }
 },
 "nbformat": 4,
 "nbformat_minor": 4
}
